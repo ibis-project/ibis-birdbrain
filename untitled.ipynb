{
 "cells": [
  {
   "cell_type": "code",
   "execution_count": 1,
   "metadata": {},
   "outputs": [],
   "source": [
    "import ibis\n",
    "import marvin\n",
    "import inspect\n",
    "\n",
    "from ibis_birdbrain import Bot"
   ]
  },
  {
   "cell_type": "code",
   "execution_count": 2,
   "metadata": {},
   "outputs": [],
   "source": [
    "ibis.options.interactive = True\n",
    "ibis.options.repr.interactive.max_rows = 20\n",
    "ibis.options.repr.interactive.max_columns = None"
   ]
  },
  {
   "cell_type": "code",
   "execution_count": 3,
   "metadata": {},
   "outputs": [
    {
     "data": {
      "text/plain": [
       "'2.1.3'"
      ]
     },
     "execution_count": 3,
     "metadata": {},
     "output_type": "execute_result"
    }
   ],
   "source": [
    "marvin.__version__"
   ]
  },
  {
   "cell_type": "code",
   "execution_count": 4,
   "metadata": {},
   "outputs": [
    {
     "data": {
      "text/plain": [
       "'gpt-4-turbo'"
      ]
     },
     "execution_count": 4,
     "metadata": {},
     "output_type": "execute_result"
    }
   ],
   "source": [
    "marvin.settings.openai.chat.completions.model"
   ]
  },
  {
   "cell_type": "code",
   "execution_count": 5,
   "metadata": {},
   "outputs": [],
   "source": [
    "if False:\n",
    "    import shutil\n",
    "\n",
    "    # strings\n",
    "    db = \"mortgage.ddb\"\n",
    "    app_db = \"app.ddb\"\n",
    "    filename = \"mortgage.parquet\"\n",
    "    tablename = \"mortgage\"\n",
    "\n",
    "    # connect to db and create table\n",
    "    con = ibis.connect(f\"duckdb://{db}\")\n",
    "    t = con.read_parquet(filename)\n",
    "    con.create_table(tablename, t)\n",
    "\n",
    "    # copy to app.ddb\n",
    "    shutil.copy(db, app_db)\n",
    "\n",
    "if False:\n",
    "    con = ibis.connect(\"duckdb://imdb.ddb\")\n",
    "    ex_str = \"imdb\"\n",
    "\n",
    "    for name, obj in inspect.getmembers(ibis.examples):\n",
    "        if ex_str in name:\n",
    "            con.create_table(name, obj.fetch().to_pyarrow())"
   ]
  },
  {
   "cell_type": "code",
   "execution_count": 6,
   "metadata": {},
   "outputs": [],
   "source": [
    "con = ibis.connect(\"duckdb://mortgage.ddb\")\n",
    "bot = Bot(con=con)"
   ]
  },
  {
   "cell_type": "code",
   "execution_count": 7,
   "metadata": {},
   "outputs": [
    {
     "data": {
      "text/plain": [
       "17155"
      ]
     },
     "execution_count": 7,
     "metadata": {},
     "output_type": "execute_result"
    }
   ],
   "source": [
    "len(str(bot.messages))"
   ]
  },
  {
   "cell_type": "code",
   "execution_count": 8,
   "metadata": {},
   "outputs": [
    {
     "name": "stderr",
     "output_type": "stream",
     "text": [
      "INFO:root:Bot birdbrain called with text: who are you and what can do you?\n",
      "INFO:root:Bot birdbrain selecting flow...\n",
      "INFO:httpx:HTTP Request: POST https://birdbrain-eh.openai.azure.com//openai/deployments/gpt-4-turbo/chat/completions?api-version=2023-12-01-preview \"HTTP/1.1 200 OK\"\n",
      "INFO:root:Bot birdbrain selected flow: Flows.RESPOND\n",
      "INFO:httpx:HTTP Request: POST https://birdbrain-eh.openai.azure.com//openai/deployments/gpt-4-turbo/chat/completions?api-version=2023-12-01-preview \"HTTP/1.1 200 OK\"\n"
     ]
    },
    {
     "data": {
      "text/plain": [
       "To: user\n",
       "From: birdbrain\n",
       "Subject: response\n",
       "Sent at: 2024-02-13 11:53:17.899252\n",
       "Message: e83439fc-008b-4c66-8fe2-f46d40a93abb\n",
       "\n",
       "I am a machine learning-powered data bot designed to assist with data querying and analysis tasks. I can interpret and execute SQL code to answer queries about datasets provided to me.\n",
       "\n",
       "Attachments:\n",
       "\n"
      ]
     },
     "execution_count": 8,
     "metadata": {},
     "output_type": "execute_result"
    }
   ],
   "source": [
    "bot(\"who are you and what can do you?\")"
   ]
  },
  {
   "cell_type": "code",
   "execution_count": 9,
   "metadata": {},
   "outputs": [],
   "source": [
    "#bot(\"what's the extact schema? give me all the columns and their types\")"
   ]
  },
  {
   "cell_type": "code",
   "execution_count": 10,
   "metadata": {},
   "outputs": [
    {
     "name": "stderr",
     "output_type": "stream",
     "text": [
      "INFO:root:Bot birdbrain called with text: what's the average interest rate (original and current)?\n",
      "INFO:root:Bot birdbrain selecting flow...\n",
      "INFO:httpx:HTTP Request: POST https://birdbrain-eh.openai.azure.com//openai/deployments/gpt-4-turbo/chat/completions?api-version=2023-12-01-preview \"HTTP/1.1 200 OK\"\n",
      "INFO:root:Bot birdbrain selected flow: Flows.SQL_CODE\n",
      "INFO:httpx:HTTP Request: POST https://birdbrain-eh.openai.azure.com//openai/deployments/gpt-4-turbo/chat/completions?api-version=2023-12-01-preview \"HTTP/1.1 200 OK\"\n",
      "INFO:root:Extracted GUIDs: ['2eb4bb66-d31b-48c6-b0d7-f0e7bc53d988']\n",
      "INFO:httpx:HTTP Request: POST https://birdbrain-eh.openai.azure.com//openai/deployments/gpt-4-turbo/chat/completions?api-version=2023-12-01-preview \"HTTP/1.1 200 OK\"\n",
      "INFO:httpx:HTTP Request: POST https://birdbrain-eh.openai.azure.com//openai/deployments/gpt-4-turbo/chat/completions?api-version=2023-12-01-preview \"HTTP/1.1 200 OK\"\n",
      "INFO:httpx:HTTP Request: POST https://birdbrain-eh.openai.azure.com//openai/deployments/gpt-4-turbo/chat/completions?api-version=2023-12-01-preview \"HTTP/1.1 200 OK\"\n"
     ]
    },
    {
     "data": {
      "text/plain": [
       "To: user\n",
       "From: birdbrain\n",
       "Subject: response\n",
       "Sent at: 2024-02-13 11:53:50.578644\n",
       "Message: 2ea52580-f9d6-42c9-a712-2315f3210904\n",
       "\n",
       "The average original interest rate is 7.96% and the average current interest rate is 7.93%.\n",
       "\n",
       "Attachments:\n",
       "\n",
       "TableAttachment\n",
       "    **guid**: 1f02c759-2559-415d-9ec2-7b4a98ae72b0\n",
       "    **time**: 2024-02-13 11:53:42.377714\n",
       "    **name**: None\n",
       "    **desc**: \n",
       "ibis.Schema {\n",
       "  average_original_interest_rate  float64\n",
       "  average_current_interest_rate   float64\n",
       "}\n",
       "    **table**:\n",
       "   average_original_interest_rate  average_current_interest_rate\n",
       "0                        7.960559                       7.928592"
      ]
     },
     "execution_count": 10,
     "metadata": {},
     "output_type": "execute_result"
    }
   ],
   "source": [
    "bot(\"what's the average interest rate (original and current)?\")"
   ]
  },
  {
   "cell_type": "code",
   "execution_count": 11,
   "metadata": {},
   "outputs": [
    {
     "name": "stderr",
     "output_type": "stream",
     "text": [
      "INFO:root:Bot birdbrain called with text: now do the same but with min, max, mean, and median\n",
      "INFO:root:Bot birdbrain selecting flow...\n",
      "INFO:httpx:HTTP Request: POST https://birdbrain-eh.openai.azure.com//openai/deployments/gpt-4-turbo/chat/completions?api-version=2023-12-01-preview \"HTTP/1.1 200 OK\"\n",
      "INFO:root:Bot birdbrain selected flow: Flows.SQL_CODE\n",
      "INFO:httpx:HTTP Request: POST https://birdbrain-eh.openai.azure.com//openai/deployments/gpt-4-turbo/chat/completions?api-version=2023-12-01-preview \"HTTP/1.1 200 OK\"\n",
      "INFO:root:Extracted GUIDs: ['72de100c-6213-41e2-802c-a96f3d34b293', '2eb4bb66-d31b-48c6-b0d7-f0e7bc53d988', '1f02c759-2559-415d-9ec2-7b4a98ae72b0']\n",
      "INFO:httpx:HTTP Request: POST https://birdbrain-eh.openai.azure.com//openai/deployments/gpt-4-turbo/chat/completions?api-version=2023-12-01-preview \"HTTP/1.1 200 OK\"\n",
      "INFO:httpx:HTTP Request: POST https://birdbrain-eh.openai.azure.com//openai/deployments/gpt-4-turbo/chat/completions?api-version=2023-12-01-preview \"HTTP/1.1 200 OK\"\n",
      "INFO:httpx:HTTP Request: POST https://birdbrain-eh.openai.azure.com//openai/deployments/gpt-4-turbo/chat/completions?api-version=2023-12-01-preview \"HTTP/1.1 200 OK\"\n"
     ]
    },
    {
     "data": {
      "text/plain": [
       "To: user\n",
       "From: birdbrain\n",
       "Subject: response\n",
       "Sent at: 2024-02-13 11:54:48.831519\n",
       "Message: 65c5e888-bba3-4232-927e-9c4bd8d3d28d\n",
       "\n",
       "The minimum original interest rate is 3.00%, the maximum is 12.325%, the mean is 7.96%, and the median is 7.985%. The minimum current interest rate is 2.00%, the maximum is 12.325%, the mean is 7.93%, and the median is 7.875%.\n",
       "\n",
       "Attachments:\n",
       "\n",
       "TableAttachment\n",
       "    **guid**: 9e7a7738-8be9-4890-bd07-50fff5e93037\n",
       "    **time**: 2024-02-13 11:54:36.032554\n",
       "    **name**: None\n",
       "    **desc**: \n",
       "ibis.Schema {\n",
       "  min_original_interest_rate     float64\n",
       "  max_original_interest_rate     float64\n",
       "  mean_original_interest_rate    float64\n",
       "  median_original_interest_rate  float64\n",
       "  min_current_interest_rate      float64\n",
       "  max_current_interest_rate      float64\n",
       "  mean_current_interest_rate     float64\n",
       "  median_current_interest_rate   float64\n",
       "}\n",
       "    **table**:\n",
       "   min_original_interest_rate  max_original_interest_rate  \\\n",
       "0                         3.0                      12.325   \n",
       "\n",
       "   mean_original_interest_rate  median_original_interest_rate  \\\n",
       "0                     7.960559                          7.985   \n",
       "\n",
       "   min_current_interest_rate  max_current_interest_rate  \\\n",
       "0                        2.0                     12.325   \n",
       "\n",
       "   mean_current_interest_rate  median_current_interest_rate  \n",
       "0                    7.928592                         7.875  "
      ]
     },
     "execution_count": 11,
     "metadata": {},
     "output_type": "execute_result"
    }
   ],
   "source": [
    "bot(\"now do the same but with min, max, mean, and median\")"
   ]
  },
  {
   "cell_type": "code",
   "execution_count": null,
   "metadata": {},
   "outputs": [],
   "source": [
    "bot.messages"
   ]
  },
  {
   "cell_type": "code",
   "execution_count": null,
   "metadata": {},
   "outputs": [],
   "source": [
    "a = bot.messages[-1].attachments[0]\n",
    "a"
   ]
  },
  {
   "cell_type": "code",
   "execution_count": null,
   "metadata": {},
   "outputs": [],
   "source": [
    "t = a.open()\n",
    "t"
   ]
  },
  {
   "cell_type": "code",
   "execution_count": null,
   "metadata": {},
   "outputs": [],
   "source": [
    "print(str(t))"
   ]
  },
  {
   "cell_type": "code",
   "execution_count": null,
   "metadata": {},
   "outputs": [],
   "source": [
    "print(f\"{t.to_pandas()}\")"
   ]
  },
  {
   "cell_type": "code",
   "execution_count": null,
   "metadata": {},
   "outputs": [],
   "source": [
    "#bot.con.sql(\"SELECT AVG(original_interest_rate) as average_interest_rate FROM mortgage\")\n",
    "#bot.con.sql(\"SELECT AVG(current_interest_rate) FROM mortgage\")\n",
    "#bot.con.sql(\"SELECT AVG(original_interest_rate) AS avg_original_interest_rate, AVG(current_interest_rate) AS avg_current_interest_rate FROM mortgage\")\n",
    "bot.con.sql(\"SELECT MIN(original_interest_rate) AS min_original_interest_rate, MAX(original_interest_rate) AS max_original_interest_rate, AVG(original_interest_rate) AS avg_original_interest_rate, MEDIAN(original_interest_rate) AS median_original_interest_rate, MIN(current_interest_rate) AS min_current_interest_rate, MAX(current_interest_rate) AS max_current_interest_rate, AVG(current_interest_rate) AS avg_current_interest_rate, MEDIAN(current_interest_rate) AS median_current_interest_rate FROM mortgage\")"
   ]
  },
  {
   "cell_type": "code",
   "execution_count": null,
   "metadata": {},
   "outputs": [],
   "source": [
    "bot(\"who are you?\")"
   ]
  },
  {
   "cell_type": "code",
   "execution_count": null,
   "metadata": {},
   "outputs": [],
   "source": [
    "bot(\"analyze that data for me\")"
   ]
  },
  {
   "cell_type": "code",
   "execution_count": null,
   "metadata": {},
   "outputs": [],
   "source": [
    "bot(\"visualize that data for me\")"
   ]
  },
  {
   "cell_type": "code",
   "execution_count": null,
   "metadata": {},
   "outputs": [],
   "source": [
    "from ibis_birdbrain.bot import Flows"
   ]
  },
  {
   "cell_type": "code",
   "execution_count": null,
   "metadata": {},
   "outputs": [],
   "source": [
    "# list options in the Flows Enum class\n",
    "\n",
    "for flow in Flows:\n",
    "    print(flow.name)"
   ]
  },
  {
   "cell_type": "code",
   "execution_count": null,
   "metadata": {},
   "outputs": [],
   "source": [
    "bot.messages"
   ]
  },
  {
   "cell_type": "code",
   "execution_count": null,
   "metadata": {},
   "outputs": [],
   "source": [
    "len(bot.messages)"
   ]
  },
  {
   "cell_type": "code",
   "execution_count": null,
   "metadata": {},
   "outputs": [],
   "source": [
    "bot.con"
   ]
  },
  {
   "cell_type": "code",
   "execution_count": null,
   "metadata": {},
   "outputs": [],
   "source": [
    "bot.name"
   ]
  },
  {
   "cell_type": "code",
   "execution_count": null,
   "metadata": {},
   "outputs": [],
   "source": [
    "bot.user_name"
   ]
  },
  {
   "cell_type": "code",
   "execution_count": null,
   "metadata": {},
   "outputs": [],
   "source": [
    "bot.description"
   ]
  },
  {
   "cell_type": "code",
   "execution_count": null,
   "metadata": {},
   "outputs": [],
   "source": [
    "bot.version"
   ]
  },
  {
   "cell_type": "code",
   "execution_count": null,
   "metadata": {},
   "outputs": [],
   "source": [
    "from ibis_birdbrain.bot import description"
   ]
  },
  {
   "cell_type": "code",
   "execution_count": null,
   "metadata": {},
   "outputs": [],
   "source": [
    "print(description)"
   ]
  },
  {
   "cell_type": "code",
   "execution_count": null,
   "metadata": {},
   "outputs": [],
   "source": []
  }
 ],
 "metadata": {
  "kernelspec": {
   "display_name": "venv",
   "language": "python",
   "name": "python3"
  },
  "language_info": {
   "codemirror_mode": {
    "name": "ipython",
    "version": 3
   },
   "file_extension": ".py",
   "mimetype": "text/x-python",
   "name": "python",
   "nbconvert_exporter": "python",
   "pygments_lexer": "ipython3",
   "version": "3.11.3"
  }
 },
 "nbformat": 4,
 "nbformat_minor": 2
}

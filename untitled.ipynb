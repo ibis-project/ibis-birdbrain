{
 "cells": [
  {
   "cell_type": "code",
   "execution_count": 1,
   "metadata": {},
   "outputs": [],
   "source": [
    "import ibis\n",
    "import marvin\n",
    "import inspect\n",
    "\n",
    "from ibis_birdbrain import Bot"
   ]
  },
  {
   "cell_type": "code",
   "execution_count": 2,
   "metadata": {},
   "outputs": [],
   "source": [
    "ibis.options.interactive = True\n",
    "ibis.options.repr.interactive.max_rows = 20\n",
    "ibis.options.repr.interactive.max_columns = None"
   ]
  },
  {
   "cell_type": "code",
   "execution_count": 3,
   "metadata": {},
   "outputs": [
    {
     "data": {
      "text/plain": [
       "'2.1.3'"
      ]
     },
     "execution_count": 3,
     "metadata": {},
     "output_type": "execute_result"
    }
   ],
   "source": [
    "marvin.__version__"
   ]
  },
  {
   "cell_type": "code",
   "execution_count": 4,
   "metadata": {},
   "outputs": [
    {
     "data": {
      "text/plain": [
       "'gpt-4-0125-preview'"
      ]
     },
     "execution_count": 4,
     "metadata": {},
     "output_type": "execute_result"
    }
   ],
   "source": [
    "marvin.settings.openai.chat.completions.model"
   ]
  },
  {
   "cell_type": "code",
   "execution_count": 5,
   "metadata": {},
   "outputs": [],
   "source": [
    "if False:\n",
    "    import shutil\n",
    "\n",
    "    # strings\n",
    "    db = \"mortgage.ddb\"\n",
    "    app_db = \"app.ddb\"\n",
    "    filename = \"mortgage.parquet\"\n",
    "    tablename = \"mortgage\"\n",
    "\n",
    "    # connect to db and create table\n",
    "    con = ibis.connect(f\"duckdb://{db}\")\n",
    "    t = con.read_parquet(filename)\n",
    "    con.create_table(tablename, t)\n",
    "\n",
    "    # copy to app.ddb\n",
    "    shutil.copy(db, app_db)\n",
    "\n",
    "if False:\n",
    "    con = ibis.connect(\"duckdb://imdb.ddb\")\n",
    "    ex_str = \"imdb\"\n",
    "\n",
    "    for name, obj in inspect.getmembers(ibis.examples):\n",
    "        if ex_str in name:\n",
    "            con.create_table(name, obj.fetch().to_pyarrow())"
   ]
  },
  {
   "cell_type": "code",
   "execution_count": 6,
   "metadata": {},
   "outputs": [],
   "source": [
    "con = ibis.connect(\"duckdb://mortgage.ddb\")\n",
    "bot = Bot(con=con)"
   ]
  },
  {
   "cell_type": "code",
   "execution_count": 7,
   "metadata": {},
   "outputs": [
    {
     "name": "stderr",
     "output_type": "stream",
     "text": [
      "INFO:root:Bot birdbrain called with text: who are you and what can do you?\n",
      "INFO:root:Bot birdbrain selecting flow...\n"
     ]
    }
   ],
   "source": [
    "bot(\"who are you and what can do you?\")"
   ]
  },
  {
   "cell_type": "code",
   "execution_count": null,
   "metadata": {},
   "outputs": [],
   "source": [
    "#bot(\"what's the extact schema? give me all the columns and their types\")"
   ]
  },
  {
   "cell_type": "code",
   "execution_count": null,
   "metadata": {},
   "outputs": [],
   "source": [
    "bot(\"what's the average interest rate (original and current)?\")"
   ]
  },
  {
   "cell_type": "code",
   "execution_count": null,
   "metadata": {},
   "outputs": [],
   "source": [
    "bot(\"now do the same but with min, max, mean, and median\")"
   ]
  },
  {
   "cell_type": "code",
   "execution_count": null,
   "metadata": {},
   "outputs": [],
   "source": [
    "bot.messages"
   ]
  },
  {
   "cell_type": "code",
   "execution_count": null,
   "metadata": {},
   "outputs": [],
   "source": [
    "a = bot.messages[-1].attachments[0]\n",
    "a"
   ]
  },
  {
   "cell_type": "code",
   "execution_count": null,
   "metadata": {},
   "outputs": [],
   "source": [
    "t = a.open()\n",
    "t"
   ]
  },
  {
   "cell_type": "code",
   "execution_count": null,
   "metadata": {},
   "outputs": [],
   "source": [
    "print(str(t))"
   ]
  },
  {
   "cell_type": "code",
   "execution_count": null,
   "metadata": {},
   "outputs": [],
   "source": [
    "print(f\"{t.to_pandas()}\")"
   ]
  },
  {
   "cell_type": "code",
   "execution_count": null,
   "metadata": {},
   "outputs": [],
   "source": [
    "#bot.con.sql(\"SELECT AVG(original_interest_rate) as average_interest_rate FROM mortgage\")\n",
    "#bot.con.sql(\"SELECT AVG(current_interest_rate) FROM mortgage\")\n",
    "#bot.con.sql(\"SELECT AVG(original_interest_rate) AS avg_original_interest_rate, AVG(current_interest_rate) AS avg_current_interest_rate FROM mortgage\")\n",
    "bot.con.sql(\"SELECT MIN(original_interest_rate) AS min_original_interest_rate, MAX(original_interest_rate) AS max_original_interest_rate, AVG(original_interest_rate) AS avg_original_interest_rate, MEDIAN(original_interest_rate) AS median_original_interest_rate, MIN(current_interest_rate) AS min_current_interest_rate, MAX(current_interest_rate) AS max_current_interest_rate, AVG(current_interest_rate) AS avg_current_interest_rate, MEDIAN(current_interest_rate) AS median_current_interest_rate FROM mortgage\")"
   ]
  },
  {
   "cell_type": "code",
   "execution_count": null,
   "metadata": {},
   "outputs": [],
   "source": [
    "bot(\"who are you?\")"
   ]
  },
  {
   "cell_type": "code",
   "execution_count": null,
   "metadata": {},
   "outputs": [],
   "source": [
    "bot(\"analyze that data for me\")"
   ]
  },
  {
   "cell_type": "code",
   "execution_count": null,
   "metadata": {},
   "outputs": [],
   "source": [
    "bot(\"visualize that data for me\")"
   ]
  },
  {
   "cell_type": "code",
   "execution_count": null,
   "metadata": {},
   "outputs": [],
   "source": [
    "from ibis_birdbrain.bot import Flows"
   ]
  },
  {
   "cell_type": "code",
   "execution_count": null,
   "metadata": {},
   "outputs": [],
   "source": [
    "# list options in the Flows Enum class\n",
    "\n",
    "for flow in Flows:\n",
    "    print(flow.name)"
   ]
  },
  {
   "cell_type": "code",
   "execution_count": null,
   "metadata": {},
   "outputs": [],
   "source": [
    "bot.messages"
   ]
  },
  {
   "cell_type": "code",
   "execution_count": null,
   "metadata": {},
   "outputs": [],
   "source": [
    "len(bot.messages)"
   ]
  },
  {
   "cell_type": "code",
   "execution_count": null,
   "metadata": {},
   "outputs": [],
   "source": [
    "bot.con"
   ]
  },
  {
   "cell_type": "code",
   "execution_count": null,
   "metadata": {},
   "outputs": [],
   "source": [
    "bot.name"
   ]
  },
  {
   "cell_type": "code",
   "execution_count": null,
   "metadata": {},
   "outputs": [],
   "source": [
    "bot.user_name"
   ]
  },
  {
   "cell_type": "code",
   "execution_count": null,
   "metadata": {},
   "outputs": [],
   "source": [
    "bot.description"
   ]
  },
  {
   "cell_type": "code",
   "execution_count": null,
   "metadata": {},
   "outputs": [],
   "source": [
    "bot.version"
   ]
  },
  {
   "cell_type": "code",
   "execution_count": null,
   "metadata": {},
   "outputs": [],
   "source": [
    "from ibis_birdbrain.bot import description"
   ]
  },
  {
   "cell_type": "code",
   "execution_count": null,
   "metadata": {},
   "outputs": [],
   "source": [
    "print(description)"
   ]
  },
  {
   "cell_type": "code",
   "execution_count": null,
   "metadata": {},
   "outputs": [],
   "source": []
  }
 ],
 "metadata": {
  "kernelspec": {
   "display_name": "venv",
   "language": "python",
   "name": "python3"
  },
  "language_info": {
   "codemirror_mode": {
    "name": "ipython",
    "version": 3
   },
   "file_extension": ".py",
   "mimetype": "text/x-python",
   "name": "python",
   "nbconvert_exporter": "python",
   "pygments_lexer": "ipython3",
   "version": "3.11.3"
  }
 },
 "nbformat": 4,
 "nbformat_minor": 2
}
